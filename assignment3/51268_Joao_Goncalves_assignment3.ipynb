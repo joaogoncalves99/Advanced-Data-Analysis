{
 "cells": [
  {
   "cell_type": "markdown",
   "metadata": {},
   "source": [
    "# João Gonçalves, 51268"
   ]
  },
  {
   "cell_type": "markdown",
   "metadata": {},
   "source": [
    "# Advanced Data Analysis - Assignment 3\n",
    "\n",
    "This notebook contains the proposed solution for **Assignment 3** of the Advanced Data Analysis course.\n",
    "\n",
    "\n",
    "### DEADLINE: 9-November-2022\n",
    "\n",
    "The assignment is **individual**. You should submit your resolution on Moodle by the deadline. While doing this assignment, you can use or adapt any code from the lectures if you want. \n",
    "\n",
    "Students have three grace days that they can use for all assignments and group project, which allows them to deliver the projects late. Use these grace days carefully.\n",
    "\n",
    "[//]: # (We will be using latex for fomulas)\n",
    "\n",
    "<script type=\"text/javascript\"\n",
    "        src=\"https://cdnjs.cloudflare.com/ajax/libs/mathjax/2.7.0/MathJax.js?config=TeX-AMS_CHTML\"></script>\n",
    "        \n",
    "### Notebook Instructions\n",
    "* You only need to deliver this notebook file (notice that, a notebook file extension is filename.ipynb) - Data files must not be submitted\n",
    "* The notebook should be delivered with the outputs already available\n"
   ]
  },
  {
   "cell_type": "markdown",
   "metadata": {},
   "source": [
    "# Group I "
   ]
  },
  {
   "cell_type": "markdown",
   "metadata": {},
   "source": [
    "Nowadays, industry players are using product quality certifications to promote their products.\n",
    "Vital factor in red wine certification and quality assessment is physicochemical tests, which\n",
    "are laboratory-based and consider factors like acidity, pH level, sugar, and other chemical\n",
    "properties. We would like to determine which feature(s) can be used regression that\n",
    "best predicts the quality red wine.\n",
    "\n",
    "Structure of the dataset:\n",
    "Input variables (based on physicochemical tests):\n",
    "- Fixed Acidity: Most acids involved with wine or fixed or non-volatile (do not evaporate readily)\n",
    "- Volatile Acidity: The amount of acetic acid in wine, which at too high of levels can lead to an unpleasant, vinegar taste\n",
    "- Citric Acid: Often added to wines to increase acidity, complement a specific flavor or prevent ferric hazes\n",
    "- Residual Sugar: From the natural grape sugars left in a wine after the alcoholic fermentation finishes.\n",
    "- Chlorides: The amount of salt in the wine\n",
    "- Free Sulfur Dioxide: It prevents microbial growth and the oxidation of wine\n",
    "- Total Sulfur Dioxide: The amount of free + bound forms of SO₂\n",
    "- Density: Sweeter wines have a higher density\n",
    "- pH: Describes the level of acidity on a scale of 0–14. Most wines are always between 3–4 on the pH scale\n",
    "- Alcohol: Available in small quantities in wines makes the drinkers sociable\n",
    "- Sulphates: A wine additive that contributes to SO₂ levels and acts as an antimicrobial and antioxidant\n",
    "- Quality: which is the output variable/predictor\n",
    "\n",
    "The dataset source is taken from https://archive.ics.uci.edu/ml/datasets/wine+quality.\n"
   ]
  },
  {
   "cell_type": "code",
   "execution_count": 155,
   "metadata": {},
   "outputs": [
    {
     "data": {
      "text/html": [
       "<div>\n",
       "<style scoped>\n",
       "    .dataframe tbody tr th:only-of-type {\n",
       "        vertical-align: middle;\n",
       "    }\n",
       "\n",
       "    .dataframe tbody tr th {\n",
       "        vertical-align: top;\n",
       "    }\n",
       "\n",
       "    .dataframe thead th {\n",
       "        text-align: right;\n",
       "    }\n",
       "</style>\n",
       "<table border=\"1\" class=\"dataframe\">\n",
       "  <thead>\n",
       "    <tr style=\"text-align: right;\">\n",
       "      <th></th>\n",
       "      <th>fixed acidity</th>\n",
       "      <th>volatile acidity</th>\n",
       "      <th>citric acid</th>\n",
       "      <th>residual sugar</th>\n",
       "      <th>chlorides</th>\n",
       "      <th>free sulfur dioxide</th>\n",
       "      <th>total sulfur dioxide</th>\n",
       "      <th>density</th>\n",
       "      <th>pH</th>\n",
       "      <th>sulphates</th>\n",
       "      <th>alcohol</th>\n",
       "      <th>quality</th>\n",
       "    </tr>\n",
       "  </thead>\n",
       "  <tbody>\n",
       "    <tr>\n",
       "      <th>0</th>\n",
       "      <td>7.4</td>\n",
       "      <td>0.70</td>\n",
       "      <td>0.00</td>\n",
       "      <td>1.9</td>\n",
       "      <td>0.076</td>\n",
       "      <td>11.0</td>\n",
       "      <td>34.0</td>\n",
       "      <td>0.9978</td>\n",
       "      <td>3.51</td>\n",
       "      <td>0.56</td>\n",
       "      <td>9.4</td>\n",
       "      <td>5</td>\n",
       "    </tr>\n",
       "    <tr>\n",
       "      <th>1</th>\n",
       "      <td>7.8</td>\n",
       "      <td>0.88</td>\n",
       "      <td>0.00</td>\n",
       "      <td>2.6</td>\n",
       "      <td>0.098</td>\n",
       "      <td>25.0</td>\n",
       "      <td>67.0</td>\n",
       "      <td>0.9968</td>\n",
       "      <td>3.20</td>\n",
       "      <td>0.68</td>\n",
       "      <td>9.8</td>\n",
       "      <td>5</td>\n",
       "    </tr>\n",
       "    <tr>\n",
       "      <th>2</th>\n",
       "      <td>7.8</td>\n",
       "      <td>0.76</td>\n",
       "      <td>0.04</td>\n",
       "      <td>2.3</td>\n",
       "      <td>0.092</td>\n",
       "      <td>15.0</td>\n",
       "      <td>54.0</td>\n",
       "      <td>0.9970</td>\n",
       "      <td>3.26</td>\n",
       "      <td>0.65</td>\n",
       "      <td>9.8</td>\n",
       "      <td>5</td>\n",
       "    </tr>\n",
       "    <tr>\n",
       "      <th>3</th>\n",
       "      <td>11.2</td>\n",
       "      <td>0.28</td>\n",
       "      <td>0.56</td>\n",
       "      <td>1.9</td>\n",
       "      <td>0.075</td>\n",
       "      <td>17.0</td>\n",
       "      <td>60.0</td>\n",
       "      <td>0.9980</td>\n",
       "      <td>3.16</td>\n",
       "      <td>0.58</td>\n",
       "      <td>9.8</td>\n",
       "      <td>6</td>\n",
       "    </tr>\n",
       "    <tr>\n",
       "      <th>4</th>\n",
       "      <td>7.4</td>\n",
       "      <td>0.70</td>\n",
       "      <td>0.00</td>\n",
       "      <td>1.9</td>\n",
       "      <td>0.076</td>\n",
       "      <td>11.0</td>\n",
       "      <td>34.0</td>\n",
       "      <td>0.9978</td>\n",
       "      <td>3.51</td>\n",
       "      <td>0.56</td>\n",
       "      <td>9.4</td>\n",
       "      <td>5</td>\n",
       "    </tr>\n",
       "  </tbody>\n",
       "</table>\n",
       "</div>"
      ],
      "text/plain": [
       "   fixed acidity  volatile acidity  citric acid  residual sugar  chlorides  \\\n",
       "0            7.4              0.70         0.00             1.9      0.076   \n",
       "1            7.8              0.88         0.00             2.6      0.098   \n",
       "2            7.8              0.76         0.04             2.3      0.092   \n",
       "3           11.2              0.28         0.56             1.9      0.075   \n",
       "4            7.4              0.70         0.00             1.9      0.076   \n",
       "\n",
       "   free sulfur dioxide  total sulfur dioxide  density    pH  sulphates  \\\n",
       "0                 11.0                  34.0   0.9978  3.51       0.56   \n",
       "1                 25.0                  67.0   0.9968  3.20       0.68   \n",
       "2                 15.0                  54.0   0.9970  3.26       0.65   \n",
       "3                 17.0                  60.0   0.9980  3.16       0.58   \n",
       "4                 11.0                  34.0   0.9978  3.51       0.56   \n",
       "\n",
       "   alcohol  quality  \n",
       "0      9.4        5  \n",
       "1      9.8        5  \n",
       "2      9.8        5  \n",
       "3      9.8        6  \n",
       "4      9.4        5  "
      ]
     },
     "execution_count": 155,
     "metadata": {},
     "output_type": "execute_result"
    }
   ],
   "source": [
    "# This code cell does not need to be changed\n",
    "import os\n",
    "import pandas as pd\n",
    "import numpy as np\n",
    "import matplotlib.pyplot as plt\n",
    "from sklearn import linear_model\n",
    "from sklearn.model_selection import cross_val_score\n",
    "from sklearn.preprocessing import PolynomialFeatures\n",
    "\n",
    "dataFileName = \"winequality-red.csv\"\n",
    "dataDF = pd.read_csv(dataFileName)\n",
    "\n",
    "dataDF.head()"
   ]
  },
  {
   "cell_type": "markdown",
   "metadata": {},
   "source": [
    "## Question 1 (1 point out of 20)"
   ]
  },
  {
   "cell_type": "markdown",
   "metadata": {},
   "source": [
    "Identify the variables that are more linearly correlated with the quality of red wine"
   ]
  },
  {
   "cell_type": "code",
   "execution_count": 156,
   "metadata": {},
   "outputs": [
    {
     "data": {
      "text/plain": [
       "quality                 1.000000\n",
       "alcohol                 0.476166\n",
       "volatile acidity        0.390558\n",
       "sulphates               0.251397\n",
       "citric acid             0.226373\n",
       "total sulfur dioxide    0.185100\n",
       "density                 0.174919\n",
       "chlorides               0.128907\n",
       "fixed acidity           0.124052\n",
       "pH                      0.057731\n",
       "free sulfur dioxide     0.050656\n",
       "residual sugar          0.013732\n",
       "Name: quality, dtype: float64"
      ]
     },
     "execution_count": 156,
     "metadata": {},
     "output_type": "execute_result"
    }
   ],
   "source": [
    "corrmat = dataDF.corr().abs()\n",
    "pearson = corrmat['quality']\n",
    "pearson.sort_values(axis = 0, ascending = False)"
   ]
  },
  {
   "cell_type": "markdown",
   "metadata": {},
   "source": [
    "## Question 2 ( 2 points out of 20)"
   ]
  },
  {
   "cell_type": "markdown",
   "metadata": {},
   "source": [
    "Estimate the true error of a model that uses the top 4 variables more correlated with the quality of red wine"
   ]
  },
  {
   "cell_type": "code",
   "execution_count": 157,
   "metadata": {},
   "outputs": [
    {
     "name": "stdout",
     "output_type": "stream",
     "text": [
      "Estimated true error (test error): 0.4439518038537466\n"
     ]
    }
   ],
   "source": [
    "def regression_f(input, price):\n",
    "    model = linear_model.LinearRegression()\n",
    "    return -1*cross_val_score(model, input, price, scoring='neg_mean_squared_error', cv=10).mean()\n",
    "\n",
    "\n",
    "test_error = regression_f(dataDF[['alcohol', 'volatile acidity', 'sulphates','citric acid']], dataDF[['quality']])\n",
    "print(f'Estimated true error (test error): {test_error}')"
   ]
  },
  {
   "cell_type": "markdown",
   "metadata": {},
   "source": [
    "## Question 3 ( 4 points out of 20)"
   ]
  },
  {
   "cell_type": "markdown",
   "metadata": {},
   "source": [
    "Evaluate two other models of your choice and compare/discuss their expected errors? (explain your criteria for each model tested)"
   ]
  },
  {
   "cell_type": "code",
   "execution_count": 158,
   "metadata": {},
   "outputs": [
    {
     "name": "stdout",
     "output_type": "stream",
     "text": [
      "Estimated true error (test error): 0.43518490403009225\n"
     ]
    }
   ],
   "source": [
    "def regression_f(input, price):\n",
    "    model = linear_model.LinearRegression()\n",
    "    return -1*cross_val_score(model, input, price, scoring='neg_mean_squared_error', cv=10).mean()\n",
    "\n",
    "\n",
    "test_error = regression_f(dataDF.drop(['quality'], axis = 1), dataDF[['quality']])\n",
    "print(f'Estimated true error (test error): {test_error}')"
   ]
  },
  {
   "cell_type": "code",
   "execution_count": 159,
   "metadata": {},
   "outputs": [
    {
     "name": "stdout",
     "output_type": "stream",
     "text": [
      "Estimated true error (test error): 0.44767964768428314\n"
     ]
    }
   ],
   "source": [
    "polynomial_features = PolynomialFeatures(degree = 3)\n",
    "test_error = regression_f(polynomial_features.fit_transform(dataDF[['alcohol', 'volatile acidity']]), dataDF[['quality']])\n",
    "print(f'Estimated true error (test error): {test_error}')"
   ]
  },
  {
   "cell_type": "markdown",
   "metadata": {},
   "source": [
    "## Answer\n",
    "\n",
    "In question 2, I created a model that uses the top 4 variables more correlated with the guality of red wine, and in question 3 I want to create two other models that can be compared to the first one. One way to do that would be to create a second model which is also a multiple linear regression with all the features, and a third model that is a polynomial regression with the 2 most correlated features. Looking at the true error values of each model, I see that the multiple linear regression using all features is the one with a lower one, for that reason, that is the better model we have."
   ]
  },
  {
   "cell_type": "markdown",
   "metadata": {},
   "source": [
    "## Question 4 ( 3 points out of 20)"
   ]
  },
  {
   "cell_type": "markdown",
   "metadata": {},
   "source": [
    "Based on the best model identified previously, build a final model, report the formula (coefficients found) and evaluate it. On average, how far is your predictions from the actual values?"
   ]
  },
  {
   "cell_type": "code",
   "execution_count": 168,
   "metadata": {},
   "outputs": [
    {
     "name": "stdout",
     "output_type": "stream",
     "text": [
      "The Coefficients are: [[ 2.72432239e-02 -1.03435127e+00 -1.74033092e-01  1.51390982e-02\n",
      "  -1.81062782e+00  4.22993833e-03 -3.29586903e-03 -1.71297726e+01\n",
      "  -3.93833264e-01  8.33810797e-01  2.71436753e-01]]\n",
      "The Intercept is: [21.20140325]\n",
      "\n",
      "Test error: 0.49418602858026867\n"
     ]
    },
    {
     "data": {
      "text/plain": [
       "Text(0, 0.5, 'Residual Value')"
      ]
     },
     "execution_count": 168,
     "metadata": {},
     "output_type": "execute_result"
    },
    {
     "data": {
      "image/png": "[encoded data removed]",
      "text/plain": [
       "<Figure size 576x396 with 1 Axes>"
      ]
     },
     "metadata": {},
     "output_type": "display_data"
    }
   ],
   "source": [
    "from sklearn import linear_model\n",
    "from sklearn.model_selection import train_test_split\n",
    "from sklearn.metrics import mean_absolute_error\n",
    "\n",
    "\n",
    "seed = 40\n",
    "df_tmp = dataDF.copy()\n",
    "\n",
    "train_set, test_set = train_test_split(df_tmp, test_size = 0.2, random_state = seed)\n",
    "\n",
    "model = linear_model.LinearRegression()\n",
    "model.fit(train_set.drop(['quality'], axis = 1), train_set[['quality']])\n",
    "\n",
    "print(\"The Coefficients are: \", model.coef_, \"\\n\", \"The Intercept is: \", model.intercept_,\"\\n\", sep='')\n",
    "\n",
    "# Apply model to Training Set\n",
    "y_pred_test = model.predict(test_set.drop(['quality'], axis = 1))\n",
    "\n",
    "error_test = mean_absolute_error(y_pred_test, test_set[['quality']])\n",
    "print(\"Test error:\", error_test)\n",
    "residualssssss = test_set[['quality']] - y_pred_test\n",
    "\n",
    "plt.scatter(y_pred_test, residualssssss)\n",
    "plt.xlabel('Predicted')\n",
    "plt.ylabel('Residual Value') "
   ]
  },
  {
   "cell_type": "markdown",
   "metadata": {},
   "source": [
    "## Answer\n",
    "\n",
    "To evaluate the model that has the lowest true error we calculated the residual to check how fat the predictions were from the real values.\n",
    "As we can see above there shouldn't be any clear patters on the residuals, so it means that we can improve our model.\n",
    "The model that I created fails to predict the quality of the wine, it might be happening because I'm excluding an important input and that therefore the residuals will follow the behavior of that missing inputs. However, the model we have is using all of the features related to the quality of red wine, and therefore it isn't excluding one variable.\n",
    "Taking all in consideration, the explanation could be that we would need another variable that is more correlated with the quality that is not in the dataset. However with the dataset my model is the one with the lowest true error, so that means that it is the best model with the variables that we have.\n",
    "On average, my predictions fail to be equal to the actual values by approximately 0.494. Since that the error is close to zero we can conlude that the values predicted are close to the real values meaning that the model is quite good."
   ]
  },
  {
   "cell_type": "markdown",
   "metadata": {},
   "source": [
    "# Group II"
   ]
  },
  {
   "cell_type": "markdown",
   "metadata": {},
   "source": [
    "The file internet.csv contains the estimated number of internet users (in millions) for each year from 1995\n",
    "through 2012. For answering the following questions, you can use or adapt any code from the lectures or exercises\n",
    "if you want.\n"
   ]
  },
  {
   "cell_type": "code",
   "execution_count": 161,
   "metadata": {},
   "outputs": [],
   "source": [
    "dataFileName = \"internet.csv\"\n",
    "dataDF2 = pd.read_csv(dataFileName) #Had to change the name of the df because I run again the 1.4 it doesn't work"
   ]
  },
  {
   "cell_type": "code",
   "execution_count": 162,
   "metadata": {},
   "outputs": [
    {
     "data": {
      "text/html": [
       "<div>\n",
       "<style scoped>\n",
       "    .dataframe tbody tr th:only-of-type {\n",
       "        vertical-align: middle;\n",
       "    }\n",
       "\n",
       "    .dataframe tbody tr th {\n",
       "        vertical-align: top;\n",
       "    }\n",
       "\n",
       "    .dataframe thead th {\n",
       "        text-align: right;\n",
       "    }\n",
       "</style>\n",
       "<table border=\"1\" class=\"dataframe\">\n",
       "  <thead>\n",
       "    <tr style=\"text-align: right;\">\n",
       "      <th></th>\n",
       "      <th>year</th>\n",
       "      <th>n_users</th>\n",
       "    </tr>\n",
       "  </thead>\n",
       "  <tbody>\n",
       "    <tr>\n",
       "      <th>0</th>\n",
       "      <td>0</td>\n",
       "      <td>16</td>\n",
       "    </tr>\n",
       "    <tr>\n",
       "      <th>1</th>\n",
       "      <td>1</td>\n",
       "      <td>36</td>\n",
       "    </tr>\n",
       "    <tr>\n",
       "      <th>2</th>\n",
       "      <td>2</td>\n",
       "      <td>70</td>\n",
       "    </tr>\n",
       "    <tr>\n",
       "      <th>3</th>\n",
       "      <td>3</td>\n",
       "      <td>147</td>\n",
       "    </tr>\n",
       "    <tr>\n",
       "      <th>4</th>\n",
       "      <td>4</td>\n",
       "      <td>248</td>\n",
       "    </tr>\n",
       "  </tbody>\n",
       "</table>\n",
       "</div>"
      ],
      "text/plain": [
       "   year  n_users\n",
       "0     0       16\n",
       "1     1       36\n",
       "2     2       70\n",
       "3     3      147\n",
       "4     4      248"
      ]
     },
     "execution_count": 162,
     "metadata": {},
     "output_type": "execute_result"
    }
   ],
   "source": [
    "dataset_df = pd.DataFrame()\n",
    "dataset_df['year'] = dataDF2.index\n",
    "dataset_df['n_users'] = dataDF2['n_users']\n",
    "x = dataset_df['year']\n",
    "dataset_df.head()"
   ]
  },
  {
   "cell_type": "markdown",
   "metadata": {},
   "source": [
    "## Question 1 (5 points out of 20)"
   ]
  },
  {
   "attachments": {
    "image.png": {
     "image/png": "[encoded data removed]"
    }
   },
   "cell_type": "markdown",
   "metadata": {},
   "source": [
    "In lecture 6, we used the logistic function with an offset parameter to better fit the curve to some arbitrary starting point:\n",
    "\n",
    "![image.png](attachment:image.png)\n",
    "\n",
    "Fit this model to the data and show to the plots of the data and the curve predicted by the\n",
    "model. Additionally, display the parameters found for the logistic model and explain the meaning of each one.  \n",
    "\n",
    "Note: I suggest you use these starting values for the minimization: L = 1000, x0 = 10, k = 0.1 and\n",
    "o = −300. If you use other values the minimization may not converge properly.\n"
   ]
  },
  {
   "cell_type": "code",
   "execution_count": 163,
   "metadata": {},
   "outputs": [
    {
     "data": {
      "text/plain": [
       "Text(0.5, 0, 'Years since 1995')"
      ]
     },
     "execution_count": 163,
     "metadata": {},
     "output_type": "execute_result"
    },
    {
     "data": {
      "image/png": "[encoded data removed]",
      "text/plain": [
       "<Figure size 720x360 with 1 Axes>"
      ]
     },
     "metadata": {},
     "output_type": "display_data"
    }
   ],
   "source": [
    "from scipy.optimize import minimize\n",
    "plt.style.use('seaborn')\n",
    "\n",
    "data = dataset_df.iloc[:,1]\n",
    "indexes = np.arange(len(data))\n",
    "\n",
    "def logistic(x,x0, L, k):\n",
    "  return L/(1+np.exp(-k*(x - x0)))\n",
    "\n",
    "def log_cost(params, data):\n",
    "  x0, L, k, offset = params\n",
    "  pred = logistic(data.iloc[:,0], x0, L, k) + offset\n",
    "  return np.mean((pred-data.iloc[:,1]) ** 2)\n",
    "\n",
    "st_params = [10, 1000, 0.1, -300]\n",
    "res = minimize(log_cost,st_params, args = (dataset_df))\n",
    "x0, L, k, offset = res.x\n",
    "\n",
    "# Used the model found (logistic model with a set of parameters and an offset) to predict the values\n",
    "pred = logistic(dataset_df.iloc[:,0], x0,L,k) + offset\n",
    "\n",
    "# Plot the data and the model built\n",
    "plt.figure(figsize=(10,5))\n",
    "plt.plot(indexes,data,'.')\n",
    "plt.plot(indexes,pred)\n",
    "plt.legend(['Internet users', 'Logistic Curve Fit'])\n",
    "plt.title(\"Internet usage (1995 to 2015)\")\n",
    "plt.ylabel(\"Internet users (millions)\")\n",
    "plt.xlabel(\"Years since 1995\")"
   ]
  },
  {
   "cell_type": "code",
   "execution_count": 164,
   "metadata": {
    "scrolled": true
   },
   "outputs": [
    {
     "data": {
      "text/plain": [
       "array([ 1.52208524e+01,  6.46199966e+03,  1.88720218e-01, -3.84707853e+02])"
      ]
     },
     "execution_count": 164,
     "metadata": {},
     "output_type": "execute_result"
    }
   ],
   "source": [
    "res.x"
   ]
  },
  {
   "cell_type": "markdown",
   "metadata": {},
   "source": [
    "The parameters returned mean respectively the \n",
    "\n",
    "Midpoint: 1.52208524e+01 – **x0 parameter** \\\n",
    "Change: 6.46199966e+03 – **L parameter** \\\n",
    "Slope factor: 1.88720218e-01 – **k parameter** \\\n",
    "Start: -3.84707853e+02 – **offset parameter**\n"
   ]
  },
  {
   "cell_type": "markdown",
   "metadata": {},
   "source": [
    "## Question 2 (2 points out of 20)"
   ]
  },
  {
   "cell_type": "markdown",
   "metadata": {},
   "source": [
    "Compute and plot the residuals of the model found. What can we tell about the model identified based on the Residual Plot? Is a logistic function a good option to model users' growth over time in our dataset?"
   ]
  },
  {
   "cell_type": "code",
   "execution_count": 165,
   "metadata": {},
   "outputs": [
    {
     "data": {
      "text/plain": [
       "Text(0.5, 1.0, 'Residuals')"
      ]
     },
     "execution_count": 165,
     "metadata": {},
     "output_type": "execute_result"
    },
    {
     "data": {
      "image/png": "[encoded data removed]",
      "text/plain": [
       "<Figure size 576x396 with 1 Axes>"
      ]
     },
     "metadata": {},
     "output_type": "display_data"
    }
   ],
   "source": [
    "residuals = data - pred\n",
    "\n",
    "plt.plot(residuals, 'o')\n",
    "plt.legend(['Logistic model residuals'])\n",
    "plt.title('Residuals')"
   ]
  },
  {
   "cell_type": "markdown",
   "metadata": {},
   "source": [
    "Yes beacuse: \n",
    "- Logistic curve's fit to be slightly better;\n",
    "- Has a marginally more normal residual distribution (almost imperceptible);\n",
    "- Overall, the logistic model can be considered as a good option at at fitting the data."
   ]
  },
  {
   "cell_type": "markdown",
   "metadata": {},
   "source": [
    "## Question 3 (3 points out of 20)"
   ]
  },
  {
   "cell_type": "markdown",
   "metadata": {},
   "source": [
    "Compute the 95% confidence interval for its parameters under the assumption that the random error affecting the data points comes from the same distribution for all points."
   ]
  },
  {
   "cell_type": "code",
   "execution_count": 166,
   "metadata": {},
   "outputs": [
    {
     "data": {
      "text/plain": [
       "Text(0.5, 0, 'Years since 1995')"
      ]
     },
     "execution_count": 166,
     "metadata": {},
     "output_type": "execute_result"
    },
    {
     "data": {
      "image/png": "[encoded data removed]",
      "text/plain": [
       "<Figure size 720x360 with 1 Axes>"
      ]
     },
     "metadata": {},
     "output_type": "display_data"
    }
   ],
   "source": [
    "residual = dataset_df.iloc[:,1]-pred\n",
    "\n",
    "replicas = 10\n",
    "df_unc = pd.DataFrame()\n",
    "\n",
    "for _ in range(replicas):\n",
    "    rep_data = dataset_df.copy() \n",
    "    rep_data.iloc[:,1] = pred + residual*np.random.normal(size=dataset_df.shape[0])\n",
    "    res=minimize(log_cost,st_params,args=(rep_data))\n",
    "    x0,L,k,offset = res.x\n",
    "    pred_replica = logistic(dataset_df.iloc[:,0],x0,L,k)+offset\n",
    "    df_unc =  pd.concat([df_unc, pred_replica], axis=1) \n",
    "\n",
    "plt.figure(figsize=(10, 5))\n",
    "\n",
    "df_unc = df_unc.iloc[:, 1:replicas]\n",
    "df_unc['median'] = df_unc.quantile(0.5, axis = 1, interpolation = 'midpoint')\n",
    "df_unc['p2.5'] = df_unc.quantile(0.025, axis = 1,interpolation = 'midpoint')\n",
    "df_unc['p975'] = df_unc.quantile(0.975, axis = 1,interpolation = 'midpoint')\n",
    "\n",
    "plt.scatter(dataset_df.iloc[:,0], dataset_df.iloc[:,1], color='blue') \n",
    "plt.plot(dataset_df.iloc[:,0], df_unc['median'], color = 'green')\n",
    "plt.fill_between(dataset_df.iloc[:,0], df_unc[['p2.5']].iloc[:,0], df_unc[['p975']].iloc[:,0], color='red',alpha=0.3)\n",
    "\n",
    "# As it can be observed, using wild bootstraping the models achieved do not vary to much between them.\n",
    "plt.legend(['Internet users', 'Logistic Curve Fit', '95% Percentile Interval'])\n",
    "plt.ylabel(\"Interet users (millions)\")\n",
    "plt.xlabel(\"Years since 1995\")"
   ]
  }
 ],
 "metadata": {
  "anaconda-cloud": {},
  "kernelspec": {
   "display_name": "Python 3.9.12 ('base')",
   "language": "python",
   "name": "python3"
  },
  "language_info": {
   "codemirror_mode": {
    "name": "ipython",
    "version": 3
   },
   "file_extension": ".py",
   "mimetype": "text/x-python",
   "name": "python",
   "nbconvert_exporter": "python",
   "pygments_lexer": "ipython3",
   "version": "3.9.12"
  },
  "vscode": {
   "interpreter": {
    "hash": "d6bc7209f8ff060ef1597285fe60337b51a2bc8b6e6378b6869285f0239cc6d4"
   }
  }
 },
 "nbformat": 4,
 "nbformat_minor": 4
}
