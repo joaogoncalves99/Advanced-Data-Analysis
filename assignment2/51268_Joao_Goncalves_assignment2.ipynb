{
 "cells": [
  {
   "cell_type": "markdown",
   "metadata": {},
   "source": [
    "# João Gonçalves, 51268"
   ]
  },
  {
   "cell_type": "markdown",
   "metadata": {},
   "source": [
    "# Advanced Data Analysis - Assignment 2\n",
    "\n",
    "This notebook contains the **Assignment 2** of the Advanced Data Analysis course.\n",
    "\n",
    "The topic of the assignment consists in applying regression on National Health and Nutrition Examination data.\n",
    "\n",
    "### DEADLINE: 12-October-2022\n",
    "\n",
    "The assignment is **individual**. You should submit your resolution on Moodle by the deadline. While doing this assignment, you can use or adapt any code from the lectures if you want. \n",
    "\n",
    "Students have three grace days that they can use for all assignments and group project, which allows them to deliver the projects late. Use these grace days carefully.\n",
    "\n",
    "[//]: # (We will be using latex for fomulas)\n",
    "\n",
    "<script type=\"text/javascript\"\n",
    "        src=\"https://cdnjs.cloudflare.com/ajax/libs/mathjax/2.7.0/MathJax.js?config=TeX-AMS_CHTML\"></script>\n",
    "        \n",
    "### Notebook Instructions\n",
    "* You only need to deliver this notebook file (notice that, a notebook file extension is filename.ipynb) - Data files must not be submitted\n",
    "* You don't need to create additional cells. Try to use the ones that are already available\n",
    "* The notebook should be delivered with the outputs already available\n"
   ]
  },
  {
   "cell_type": "markdown",
   "metadata": {},
   "source": [
    "# Dataset"
   ]
  },
  {
   "cell_type": "markdown",
   "metadata": {},
   "source": [
    "The file children.csv contains a file with two columns. The first column is the age of each child in\n",
    "months, and the second the weight in Kg. The data is from the National Health and Nutrition Examination\n",
    "Survey of 2017-2018 and represents a sample of children up to 24 months old.\n",
    "\n",
    "The following code loads the children.csv file "
   ]
  },
  {
   "cell_type": "code",
   "execution_count": 1,
   "metadata": {},
   "outputs": [
    {
     "data": {
      "text/html": [
       "<div>\n",
       "<style scoped>\n",
       "    .dataframe tbody tr th:only-of-type {\n",
       "        vertical-align: middle;\n",
       "    }\n",
       "\n",
       "    .dataframe tbody tr th {\n",
       "        vertical-align: top;\n",
       "    }\n",
       "\n",
       "    .dataframe thead th {\n",
       "        text-align: right;\n",
       "    }\n",
       "</style>\n",
       "<table border=\"1\" class=\"dataframe\">\n",
       "  <thead>\n",
       "    <tr style=\"text-align: right;\">\n",
       "      <th></th>\n",
       "      <th>age</th>\n",
       "      <th>weight</th>\n",
       "    </tr>\n",
       "  </thead>\n",
       "  <tbody>\n",
       "    <tr>\n",
       "      <th>0</th>\n",
       "      <td>11.0</td>\n",
       "      <td>10.2</td>\n",
       "    </tr>\n",
       "    <tr>\n",
       "      <th>1</th>\n",
       "      <td>21.0</td>\n",
       "      <td>10.6</td>\n",
       "    </tr>\n",
       "    <tr>\n",
       "      <th>2</th>\n",
       "      <td>7.0</td>\n",
       "      <td>9.3</td>\n",
       "    </tr>\n",
       "    <tr>\n",
       "      <th>3</th>\n",
       "      <td>19.0</td>\n",
       "      <td>8.3</td>\n",
       "    </tr>\n",
       "    <tr>\n",
       "      <th>4</th>\n",
       "      <td>16.0</td>\n",
       "      <td>9.2</td>\n",
       "    </tr>\n",
       "  </tbody>\n",
       "</table>\n",
       "</div>"
      ],
      "text/plain": [
       "    age  weight\n",
       "0  11.0    10.2\n",
       "1  21.0    10.6\n",
       "2   7.0     9.3\n",
       "3  19.0     8.3\n",
       "4  16.0     9.2"
      ]
     },
     "execution_count": 1,
     "metadata": {},
     "output_type": "execute_result"
    }
   ],
   "source": [
    "# This code cell does not need to be changed\n",
    "import os\n",
    "import pandas as pd\n",
    "import numpy as np\n",
    "from sklearn import linear_model\n",
    "from sklearn.preprocessing import PolynomialFeatures\n",
    "import matplotlib.pyplot as plt\n",
    "\n",
    "dataFileName = os.path.join( \"assignment2\", \"children.csv\")\n",
    "dataDF = pd.read_csv(dataFileName)\n",
    "dataDF.head()"
   ]
  },
  {
   "cell_type": "markdown",
   "metadata": {},
   "source": [
    "# Assignment"
   ]
  },
  {
   "cell_type": "markdown",
   "metadata": {},
   "source": [
    "In this assignment, we aim to predict the weight of a children until 24 monthts old based on child age. "
   ]
  },
  {
   "cell_type": "markdown",
   "metadata": {},
   "source": [
    "## Question 1\n",
    "\n",
    "In this question, we aim to create a linear regression model do predict the weight of a children based on his/her age. \n",
    "\n",
    "### **1.a)** Let's start by plotting the data in a scatter plot.  Is there any correlation between the weight and age of children? (complement visualization with a statistic information). In your opinion, is it reasonable to create a linear regression model to predict the weight of a children? (3 points out of 20). \n"
   ]
  },
  {
   "cell_type": "code",
   "execution_count": 2,
   "metadata": {},
   "outputs": [
    {
     "data": {
      "image/png": "[encoded data removed]",
      "text/plain": [
       "<Figure size 432x288 with 1 Axes>"
      ]
     },
     "metadata": {
      "needs_background": "light"
     },
     "output_type": "display_data"
    },
    {
     "data": {
      "text/html": [
       "<div>\n",
       "<style scoped>\n",
       "    .dataframe tbody tr th:only-of-type {\n",
       "        vertical-align: middle;\n",
       "    }\n",
       "\n",
       "    .dataframe tbody tr th {\n",
       "        vertical-align: top;\n",
       "    }\n",
       "\n",
       "    .dataframe thead th {\n",
       "        text-align: right;\n",
       "    }\n",
       "</style>\n",
       "<table border=\"1\" class=\"dataframe\">\n",
       "  <thead>\n",
       "    <tr style=\"text-align: right;\">\n",
       "      <th></th>\n",
       "      <th>age</th>\n",
       "      <th>weight</th>\n",
       "    </tr>\n",
       "  </thead>\n",
       "  <tbody>\n",
       "    <tr>\n",
       "      <th>age</th>\n",
       "      <td>1.000000</td>\n",
       "      <td>0.879615</td>\n",
       "    </tr>\n",
       "    <tr>\n",
       "      <th>weight</th>\n",
       "      <td>0.879615</td>\n",
       "      <td>1.000000</td>\n",
       "    </tr>\n",
       "  </tbody>\n",
       "</table>\n",
       "</div>"
      ],
      "text/plain": [
       "             age    weight\n",
       "age     1.000000  0.879615\n",
       "weight  0.879615  1.000000"
      ]
     },
     "execution_count": 2,
     "metadata": {},
     "output_type": "execute_result"
    }
   ],
   "source": [
    "# Solve question here. Add a Markdown cell after this cell if you want to add some comment on your solution.\n",
    "x_feature = dataDF[['age']].values\n",
    "y_labels = dataDF[['weight']].values\n",
    "\n",
    "plt.scatter(x_feature, y_labels)\n",
    "plt.show()\n",
    "dataDF.corr()"
   ]
  },
  {
   "cell_type": "markdown",
   "metadata": {},
   "source": [
    "After looking to the plot obtained seems to exist a correlation, so then I did the correlation matrix to make sure that my intuition was right or not, which in this case was right!\n",
    "The correlation values can go from -1 to 1, while 1 represents a very good positive correlation, -1 represents a very good negative correlation. The value obtained for the correlation is 0.879615 which means that the correlation is really strong!\n",
    "Considering everything I think the linear regression  is reasonable since as we can see on the plot, the age and weigth are almost correlated and we will have not much flux. When one of them increase, following the results the other one will increase 87,96%, obviously the perfect case would be if they increase both in the same weight, so in conclusion I think the linear regression fits our necessities for this case."
   ]
  },
  {
   "cell_type": "markdown",
   "metadata": {},
   "source": [
    "### **1.b)** Build a linear regression model and estimate the true error (5 out of 20) "
   ]
  },
  {
   "cell_type": "code",
   "execution_count": 3,
   "metadata": {},
   "outputs": [
    {
     "name": "stdout",
     "output_type": "stream",
     "text": [
      "Train error: 1.6324466675988214\n",
      "Test error: 1.6251019026448756\n"
     ]
    },
    {
     "data": {
      "image/png": "[encoded data removed]",
      "text/plain": [
       "<Figure size 648x432 with 1 Axes>"
      ]
     },
     "metadata": {
      "needs_background": "light"
     },
     "output_type": "display_data"
    }
   ],
   "source": [
    "from sklearn import linear_model\n",
    "from sklearn.metrics import mean_squared_error\n",
    "from sklearn.model_selection import train_test_split\n",
    "seed = 3\n",
    "\n",
    "# fit a linear model to the available data\n",
    "model = linear_model.LinearRegression()\n",
    "model.fit(x_feature,y_labels) #Gives the parameters\n",
    "yx = model.predict(x_feature)  #  y = theta0 x + theta1\n",
    "\n",
    "train_set, test_set = train_test_split(dataDF, test_size = 0.1, random_state = seed)\n",
    "\n",
    "#FOR TRAIN MODEL\n",
    "train_input_df = train_set.iloc[:,0:(len(train_set.columns)-1)] \n",
    "x_train = train_set[['age']]\n",
    "y_train = train_set[['weight']]\n",
    "\n",
    "model = linear_model.LinearRegression()\n",
    "model.fit(train_input_df, y_train)\n",
    "\n",
    "train_model = model.predict(train_input_df)\n",
    "error_train = mean_squared_error(y_train, train_model)\n",
    "print(\"Train error:\",error_train)\n",
    "\n",
    "#FOR TEST MODEL\n",
    "test_input_df = test_set.iloc[:,0:(len(test_set.columns)-1)] \n",
    "x_test = test_set[['age']]\n",
    "y_test = test_set[['weight']]\n",
    "\n",
    "test_model = model.predict(test_input_df)\n",
    "error_test = mean_squared_error(y_test, test_model)\n",
    "print(\"Test error:\",error_test)\n",
    "\n",
    "plt.figure(figsize= (9,6))\n",
    "plt.style.use('seaborn')\n",
    "plt.title('Linear Regression Model')\n",
    "plt.xlabel('Age')\n",
    "plt.ylabel('Weight')\n",
    "plt.scatter(x_train,y_train, c= 'blue')\n",
    "plt.scatter(x_test,y_test, c= 'orange')\n",
    "plt.plot(x_feature, yx, c= 'red')\n",
    "plt.show()\n"
   ]
  },
  {
   "cell_type": "markdown",
   "metadata": {},
   "source": [
    "### **1.c)** Display in a visualization the data used to build the model as well as the model obtained. Finally,  write the equation of the model obtained (2 out of 20) "
   ]
  },
  {
   "cell_type": "code",
   "execution_count": 2,
   "metadata": {},
   "outputs": [
    {
     "ename": "NameError",
     "evalue": "name 'plt' is not defined",
     "output_type": "error",
     "traceback": [
      "\u001b[0;31m---------------------------------------------------------------------------\u001b[0m",
      "\u001b[0;31mNameError\u001b[0m                                 Traceback (most recent call last)",
      "\u001b[1;32m/Users/joaogoncalves/Documents/Universidade/Mestrado/1st Semester/Advanced Data Analysis/Assignment/#2/assignment2/51268_Joao_Goncalves_assignment2.ipynb Cell 14\u001b[0m in \u001b[0;36m<cell line: 2>\u001b[0;34m()\u001b[0m\n\u001b[1;32m      <a href='vscode-notebook-cell:/Users/joaogoncalves/Documents/Universidade/Mestrado/1st%20Semester/Advanced%20Data%20Analysis/Assignment/%232/assignment2/51268_Joao_Goncalves_assignment2.ipynb#X16sZmlsZQ%3D%3D?line=0'>1</a>\u001b[0m \u001b[39m# Solve question here. \u001b[39;00m\n\u001b[0;32m----> <a href='vscode-notebook-cell:/Users/joaogoncalves/Documents/Universidade/Mestrado/1st%20Semester/Advanced%20Data%20Analysis/Assignment/%232/assignment2/51268_Joao_Goncalves_assignment2.ipynb#X16sZmlsZQ%3D%3D?line=1'>2</a>\u001b[0m plt\u001b[39m.\u001b[39mfigure(figsize\u001b[39m=\u001b[39m (\u001b[39m9\u001b[39m,\u001b[39m6\u001b[39m))\n\u001b[1;32m      <a href='vscode-notebook-cell:/Users/joaogoncalves/Documents/Universidade/Mestrado/1st%20Semester/Advanced%20Data%20Analysis/Assignment/%232/assignment2/51268_Joao_Goncalves_assignment2.ipynb#X16sZmlsZQ%3D%3D?line=2'>3</a>\u001b[0m plt\u001b[39m.\u001b[39mstyle\u001b[39m.\u001b[39muse(\u001b[39m'\u001b[39m\u001b[39mseaborn\u001b[39m\u001b[39m'\u001b[39m)\n\u001b[1;32m      <a href='vscode-notebook-cell:/Users/joaogoncalves/Documents/Universidade/Mestrado/1st%20Semester/Advanced%20Data%20Analysis/Assignment/%232/assignment2/51268_Joao_Goncalves_assignment2.ipynb#X16sZmlsZQ%3D%3D?line=3'>4</a>\u001b[0m plt\u001b[39m.\u001b[39mtitle(\u001b[39m'\u001b[39m\u001b[39mLinear Regression Model\u001b[39m\u001b[39m'\u001b[39m)\n",
      "\u001b[0;31mNameError\u001b[0m: name 'plt' is not defined"
     ]
    }
   ],
   "source": [
    "# Solve question here. \n",
    "plt.figure(figsize= (9,6))\n",
    "plt.style.use('seaborn')\n",
    "plt.title('Linear Regression Model')\n",
    "plt.xlabel('Age')\n",
    "plt.ylabel('Weight')\n",
    "plt.scatter(x_feature, y_labels, c= 'green')\n",
    "plt.plot(x_feature, yx, c= 'red')\n",
    "plt.show()\n",
    "\n",
    "body_reg = linear_model.LinearRegression()\n",
    "body_reg.fit(x_feature, y_labels) #Gives the parameters\n",
    "\n",
    "theta0 = body_reg.intercept_[0]\n",
    "theta1 = body_reg.coef_[0][0]\n",
    "print('Theta 0 =',theta0)\n",
    "print('Theta 1 =',theta1)\n",
    "print(\"The equation of the model is y = \",theta0,\"x + \", theta1,\" + \", error_train, sep = '')\n",
    "\n"
   ]
  },
  {
   "cell_type": "markdown",
   "metadata": {},
   "source": [
    "## Question 2 (10 points out of 20)"
   ]
  },
  {
   "cell_type": "markdown",
   "metadata": {},
   "source": [
    "Here, we aim to find out if we can create a better model to predict the weigth of children based on their age."
   ]
  },
  {
   "cell_type": "markdown",
   "metadata": {},
   "source": [
    "### **2.a)** Evaluate polynomial model of degrees 1 through 10. What degree would you choose in order to have a better model when compared to the model built previously? Why? (6 out of 20)"
   ]
  },
  {
   "cell_type": "code",
   "execution_count": 5,
   "metadata": {},
   "outputs": [
    {
     "name": "stdout",
     "output_type": "stream",
     "text": [
      "Best degree is 10 with a test error of -1.4008441786007992\n"
     ]
    }
   ],
   "source": [
    "from sklearn.model_selection import cross_val_score\n",
    "import sklearn\n",
    "degree = 10\n",
    "\n",
    "def trans_data(degree):\n",
    "    polynomial_features = PolynomialFeatures(degree)\n",
    "    \n",
    "    # Transform the original input data\n",
    "    poly_trans = polynomial_features.fit_transform(x_feature) # x is our initial variable that has all inputs\n",
    "    input_df = pd.DataFrame(poly_trans)\n",
    "    return input_df\n",
    "\n",
    "model = linear_model.LinearRegression()\n",
    "\n",
    "scores = cross_val_score(model, trans_data(10), y_labels, scoring='neg_mean_squared_error', cv=10)\n",
    "\n",
    "df = pd.DataFrame({'degree' : range(1, 11 ,1)})\n",
    "\n",
    "df['test_error'] = df['degree'].apply(lambda x: cross_val_score(model, trans_data(x), y_labels, scoring='neg_mean_squared_error', cv=10).mean()) # poly_model(x, False)[1] syntax - since our function returns two outputs we want to access the value of the second one\n",
    "\n",
    "best_degree = df.nlargest(1, ['test_error'])\n",
    "print(\"Best degree is\", best_degree.degree.item(), \"with a test error of\", best_degree.test_error.item())"
   ]
  },
  {
   "cell_type": "markdown",
   "metadata": {},
   "source": [
    "Each degree will give us an error and what we want from that is to take the error closest to 0 which in this case was the dregree 10 with a test error of -1.4008441786007992"
   ]
  },
  {
   "cell_type": "markdown",
   "metadata": {},
   "source": [
    "### **2.b)** Using the best polynomial degree, find the coefficients of the best curve (2 points out of 20)"
   ]
  },
  {
   "cell_type": "code",
   "execution_count": 6,
   "metadata": {},
   "outputs": [
    {
     "name": "stdout",
     "output_type": "stream",
     "text": [
      "Intercept: [4.48269775]\n",
      "The coefficients are:\n",
      " [[ 0.00000000e+00  5.68227677e-01  5.32899294e-01 -4.05697273e-01\n",
      "   1.35968974e-01 -2.47553566e-02  2.63839984e-03 -1.69173166e-04\n",
      "   6.42116026e-06 -1.32886326e-07  1.15535103e-09]]\n"
     ]
    }
   ],
   "source": [
    "def poly_model_degree(degree):\n",
    "    polynomial_features = PolynomialFeatures(degree)\n",
    "    x_poly = polynomial_features.fit_transform(train_set.iloc[:,0:(len(train_set.columns)-1)])\n",
    "    model = linear_model.LinearRegression().fit(x_poly, y_train)\n",
    "    print(\"Intercept:\", model.intercept_)\n",
    "    print(\"The coefficients are:\\n\",model.coef_)\n",
    "    \n",
    "poly_model_degree(10)"
   ]
  },
  {
   "cell_type": "markdown",
   "metadata": {},
   "source": [
    "### **2.c)** Indicate what is the expected error of your model when predicting the weight of children from their age in months. Note that the error should be in Kg, so take careful note of the units you are computing (2 out of 20)"
   ]
  },
  {
   "cell_type": "code",
   "execution_count": 7,
   "metadata": {},
   "outputs": [
    {
     "name": "stdout",
     "output_type": "stream",
     "text": [
      "Test Error:  1.2175671606743734\n"
     ]
    }
   ],
   "source": [
    "# Solve question here. Add a Markdown cell after this cell if you want to add some comment on you solution.\n",
    "def poly_model(degree):\n",
    "    polynomial_features = PolynomialFeatures(degree)\n",
    "    \n",
    "    # Transform the original input data\n",
    "    poly_trans = polynomial_features.fit_transform(x_feature) # x is our initial variable that has all inputs\n",
    "    \n",
    "    input_df = pd.DataFrame(poly_trans)\n",
    "    input_df['weight'] = y_labels # after transformation append the target variable y to the DataFrame df\n",
    "    \n",
    "    # Split the data into train and test set\n",
    "        # 20% of the original sample(i.e., rows of the DataFrame) will be in the test dataset (Param test_size = 0.3)\n",
    "    train_set, test_set = train_test_split(input_df, test_size = 0.2, random_state = 3)\n",
    "    \n",
    "    # Since degree may vary the number of columns as well. Here, we don't want to have the target variable\n",
    "    train_input_df = train_set.iloc[:,0:(len(train_set.columns)-1)] \n",
    "    y_train = train_set[['weight']]\n",
    "    \n",
    "    test_input_df = test_set.iloc[:,0:(len(test_set.columns)-1)] \n",
    "    y_test = test_set[['weight']]\n",
    "    \n",
    "    # Train Model\n",
    "    model = linear_model.LinearRegression()\n",
    "    model.fit(train_input_df, y_train)\n",
    "    \n",
    "    # Apply model to Test Set\n",
    "    poly_pred_test = model.predict(test_input_df)\n",
    "    \n",
    "    # Compute square error on test data (unseen)\n",
    "    error_test = mean_squared_error(y_test, poly_pred_test)\n",
    "\n",
    "    \n",
    "    return error_test\n",
    "\n",
    "error_test = poly_model(10)\n",
    "\n",
    "\n",
    "print('Test Error: ', np.sqrt(error_test) )    \n",
    "\n"
   ]
  },
  {
   "cell_type": "markdown",
   "metadata": {},
   "source": [
    "The squared root of the mean squared test error is 1.2175671606743734\n",
    "Therefore the expected error using the degree 10, because before we checked that was the best, of my prediction the weight is approximately 1.22kg\n",
    "The mean squared error (MSE) is a measure of how close the model is to the real data. The MSE has the squared units of what is in the y axis, that in this case is the weight of a child. That means that the root mean squared erros (RMSE) has the same units as the weight in the y axis (kg).\n",
    "In conclusion, we know that the prediction will have an error arround 1,22kg predicting the weight so the the deviation will be arround 1,22kg aswell.\n",
    "\n"
   ]
  },
  {
   "cell_type": "markdown",
   "metadata": {},
   "source": []
  }
 ],
 "metadata": {
  "anaconda-cloud": {},
  "kernelspec": {
   "display_name": "Python 3.9.12 ('base')",
   "language": "python",
   "name": "python3"
  },
  "language_info": {
   "codemirror_mode": {
    "name": "ipython",
    "version": 3
   },
   "file_extension": ".py",
   "mimetype": "text/x-python",
   "name": "python",
   "nbconvert_exporter": "python",
   "pygments_lexer": "ipython3",
   "version": "3.9.12"
  },
  "vscode": {
   "interpreter": {
    "hash": "d6bc7209f8ff060ef1597285fe60337b51a2bc8b6e6378b6869285f0239cc6d4"
   }
  }
 },
 "nbformat": 4,
 "nbformat_minor": 1
}
